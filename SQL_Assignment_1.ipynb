{
 "cells": [
  {
   "cell_type": "markdown",
   "id": "05f4cc17",
   "metadata": {},
   "source": [
    "# 1. What is a relational database management system (RDBMS)? What are the advantages of a database management system over a file system?"
   ]
  },
  {
   "cell_type": "markdown",
   "id": "f69f9355",
   "metadata": {},
   "source": [
    "Answer : RDMS stands for Relational Database Management System. \n",
    "    Advantages of dbms over file systems : \n",
    "    \n",
    "        1 ) Multiple people can work on same data at the same time.\n",
    "        \n",
    "        2 ) Risk of data loss is loss.\n",
    "        \n",
    "        3 ) versioning is possible record the changes done by users."
   ]
  },
  {
   "cell_type": "markdown",
   "id": "5c0b8646",
   "metadata": {},
   "source": [
    "# 2.In a database management system, explain the ACID properties."
   ]
  },
  {
   "cell_type": "markdown",
   "id": "9007088d",
   "metadata": {},
   "source": [
    "Answer : \n",
    "ACID - In order to maintain the consistency in a database before and after transaction, properties are followed, which is known as ACID property.\n",
    "ACID stands for Atomicity Consistency Isolation Durability"
   ]
  },
  {
   "cell_type": "markdown",
   "id": "a350cc2e",
   "metadata": {},
   "source": [
    "# 3.Explain the concept of normalization."
   ]
  },
  {
   "cell_type": "markdown",
   "id": "5e3eec62",
   "metadata": {},
   "source": [
    "Normalization is the process of organizing data in database.It divides data the larger table data into smaller and links them using relationships.\n",
    "1NF,2NF,3NF,BCNF are different types of Normal forms."
   ]
  },
  {
   "cell_type": "markdown",
   "id": "cac6f73c",
   "metadata": {},
   "source": [
    "# 4.Explain the many types of query languages used in relational databases. DQL, DML, DCL, and DDL are some examples."
   ]
  },
  {
   "cell_type": "markdown",
   "id": "51c5d9f5",
   "metadata": {},
   "source": [
    "Answer:\n",
    "    Types of query language in SQL:\n",
    "        1 ) DQL : Data Query Language. It finds out the required data from table using command Select . ex : Select.\n",
    "        \n",
    "        2 ) DML : Data Manipulation Language. It helps to manipulate the data in table. Insert, Update, Delete\n",
    "        \n",
    "        3 ) DCL : Data Control Language. It helps to control the access of users and all. Revoke,Grant\n",
    "        \n",
    "        4 ) DDL : Data Definition Language. It helps to create tables, database , alter structures of those . Create Table, Alter Table, Drop Table"
   ]
  },
  {
   "cell_type": "markdown",
   "id": "35da7006",
   "metadata": {},
   "source": [
    "# 5.What is the difference between the main key and a composite key? Give instances of how primary key and composite are used."
   ]
  },
  {
   "cell_type": "markdown",
   "id": "6ce02608",
   "metadata": {},
   "source": [
    "Answer :\n",
    "\n",
    "    a primary key uniquely identifies each record in a database table.\n",
    "    \n",
    "    composite key, which is composed of two or more attributes that collectively uniquely identify each record."
   ]
  },
  {
   "cell_type": "markdown",
   "id": "20647987",
   "metadata": {},
   "source": [
    "# 6.Create a table with a primary key, a column default value, and a column unique constraint in SQL."
   ]
  },
  {
   "cell_type": "markdown",
   "id": "ee4f50c2",
   "metadata": {},
   "source": [
    "create table customers\n",
    "\n",
    "(\n",
    "\n",
    "customerid int,\n",
    "\n",
    "address varchar(50),\n",
    "\n",
    "adharnum int unique,\n",
    "\n",
    "primary key(customerid)\n",
    "\n",
    ")"
   ]
  },
  {
   "cell_type": "code",
   "execution_count": null,
   "id": "332a3df3",
   "metadata": {},
   "outputs": [],
   "source": []
  }
 ],
 "metadata": {
  "kernelspec": {
   "display_name": "Python 3 (ipykernel)",
   "language": "python",
   "name": "python3"
  },
  "language_info": {
   "codemirror_mode": {
    "name": "ipython",
    "version": 3
   },
   "file_extension": ".py",
   "mimetype": "text/x-python",
   "name": "python",
   "nbconvert_exporter": "python",
   "pygments_lexer": "ipython3",
   "version": "3.9.7"
  }
 },
 "nbformat": 4,
 "nbformat_minor": 5
}
